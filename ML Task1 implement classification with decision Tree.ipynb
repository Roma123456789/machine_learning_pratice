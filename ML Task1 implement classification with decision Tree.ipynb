{
 "cells": [
  {
   "cell_type": "code",
   "execution_count": 1,
   "id": "8fe11b0a",
   "metadata": {},
   "outputs": [],
   "source": [
    "import pandas as pd\n",
    "import matplotlib.pyplot as plt\n",
    "import seaborn as sns\n",
    "from sklearn.model_selection import train_test_split"
   ]
  },
  {
   "cell_type": "code",
   "execution_count": 2,
   "id": "f7230f44",
   "metadata": {},
   "outputs": [
    {
     "data": {
      "text/plain": [
       "(60, 4)"
      ]
     },
     "execution_count": 2,
     "metadata": {},
     "output_type": "execute_result"
    }
   ],
   "source": [
    "# differenciate Apple and Orange\n",
    "fruits = pd.read_csv('c:/Users/igor/Downloads/Data-Sets-ML/fruits.csv')\n",
    "fruits.shape"
   ]
  },
  {
   "cell_type": "code",
   "execution_count": 46,
   "id": "bd85c60f",
   "metadata": {},
   "outputs": [
    {
     "data": {
      "text/html": [
       "<div>\n",
       "<style scoped>\n",
       "    .dataframe tbody tr th:only-of-type {\n",
       "        vertical-align: middle;\n",
       "    }\n",
       "\n",
       "    .dataframe tbody tr th {\n",
       "        vertical-align: top;\n",
       "    }\n",
       "\n",
       "    .dataframe thead th {\n",
       "        text-align: right;\n",
       "    }\n",
       "</style>\n",
       "<table border=\"1\" class=\"dataframe\">\n",
       "  <thead>\n",
       "    <tr style=\"text-align: right;\">\n",
       "      <th></th>\n",
       "      <th>color</th>\n",
       "      <th>sphericity</th>\n",
       "      <th>weight</th>\n",
       "      <th>label</th>\n",
       "    </tr>\n",
       "  </thead>\n",
       "  <tbody>\n",
       "    <tr>\n",
       "      <th>0</th>\n",
       "      <td>Orange</td>\n",
       "      <td>0.947</td>\n",
       "      <td>120</td>\n",
       "      <td>Orange</td>\n",
       "    </tr>\n",
       "    <tr>\n",
       "      <th>1</th>\n",
       "      <td>Orange</td>\n",
       "      <td>0.917</td>\n",
       "      <td>125</td>\n",
       "      <td>Orange</td>\n",
       "    </tr>\n",
       "    <tr>\n",
       "      <th>2</th>\n",
       "      <td>Orange</td>\n",
       "      <td>0.923</td>\n",
       "      <td>110</td>\n",
       "      <td>Orange</td>\n",
       "    </tr>\n",
       "    <tr>\n",
       "      <th>3</th>\n",
       "      <td>Orange</td>\n",
       "      <td>0.916</td>\n",
       "      <td>123</td>\n",
       "      <td>Orange</td>\n",
       "    </tr>\n",
       "    <tr>\n",
       "      <th>4</th>\n",
       "      <td>Orange</td>\n",
       "      <td>0.943</td>\n",
       "      <td>124</td>\n",
       "      <td>Orange</td>\n",
       "    </tr>\n",
       "    <tr>\n",
       "      <th>5</th>\n",
       "      <td>Orange</td>\n",
       "      <td>0.911</td>\n",
       "      <td>130</td>\n",
       "      <td>Orange</td>\n",
       "    </tr>\n",
       "    <tr>\n",
       "      <th>6</th>\n",
       "      <td>Orange</td>\n",
       "      <td>0.903</td>\n",
       "      <td>135</td>\n",
       "      <td>Orange</td>\n",
       "    </tr>\n",
       "    <tr>\n",
       "      <th>7</th>\n",
       "      <td>Orange</td>\n",
       "      <td>0.918</td>\n",
       "      <td>105</td>\n",
       "      <td>Orange</td>\n",
       "    </tr>\n",
       "    <tr>\n",
       "      <th>8</th>\n",
       "      <td>Orange</td>\n",
       "      <td>0.914</td>\n",
       "      <td>132</td>\n",
       "      <td>Orange</td>\n",
       "    </tr>\n",
       "    <tr>\n",
       "      <th>9</th>\n",
       "      <td>Orange</td>\n",
       "      <td>0.936</td>\n",
       "      <td>127</td>\n",
       "      <td>Orange</td>\n",
       "    </tr>\n",
       "  </tbody>\n",
       "</table>\n",
       "</div>"
      ],
      "text/plain": [
       "    color  sphericity  weight   label\n",
       "0  Orange       0.947     120  Orange\n",
       "1  Orange       0.917     125  Orange\n",
       "2  Orange       0.923     110  Orange\n",
       "3  Orange       0.916     123  Orange\n",
       "4  Orange       0.943     124  Orange\n",
       "5  Orange       0.911     130  Orange\n",
       "6  Orange       0.903     135  Orange\n",
       "7  Orange       0.918     105  Orange\n",
       "8  Orange       0.914     132  Orange\n",
       "9  Orange       0.936     127  Orange"
      ]
     },
     "execution_count": 46,
     "metadata": {},
     "output_type": "execute_result"
    }
   ],
   "source": [
    "fruits.head(10)"
   ]
  },
  {
   "cell_type": "code",
   "execution_count": 4,
   "id": "c1c1d5be",
   "metadata": {},
   "outputs": [
    {
     "data": {
      "text/plain": [
       "Orange    30\n",
       "Apple     30\n",
       "Name: label, dtype: int64"
      ]
     },
     "execution_count": 4,
     "metadata": {},
     "output_type": "execute_result"
    }
   ],
   "source": [
    "fruits.label.value_counts()"
   ]
  },
  {
   "cell_type": "code",
   "execution_count": 4,
   "id": "a143e316",
   "metadata": {},
   "outputs": [
    {
     "data": {
      "text/plain": [
       "Green              20\n",
       "Orange             10\n",
       "Greenish yellow    10\n",
       "Reddish yellow     10\n",
       "Red                10\n",
       "Name: color, dtype: int64"
      ]
     },
     "execution_count": 4,
     "metadata": {},
     "output_type": "execute_result"
    }
   ],
   "source": [
    "fruits.color.value_counts()"
   ]
  },
  {
   "cell_type": "code",
   "execution_count": 5,
   "id": "415040a3",
   "metadata": {},
   "outputs": [
    {
     "data": {
      "text/plain": [
       "color         0\n",
       "sphericity    0\n",
       "weight        0\n",
       "label         0\n",
       "dtype: int64"
      ]
     },
     "execution_count": 5,
     "metadata": {},
     "output_type": "execute_result"
    }
   ],
   "source": [
    "fruits.isna().sum()"
   ]
  },
  {
   "cell_type": "code",
   "execution_count": 6,
   "id": "83a912ab",
   "metadata": {},
   "outputs": [
    {
     "data": {
      "text/html": [
       "<div>\n",
       "<style scoped>\n",
       "    .dataframe tbody tr th:only-of-type {\n",
       "        vertical-align: middle;\n",
       "    }\n",
       "\n",
       "    .dataframe tbody tr th {\n",
       "        vertical-align: top;\n",
       "    }\n",
       "\n",
       "    .dataframe thead th {\n",
       "        text-align: right;\n",
       "    }\n",
       "</style>\n",
       "<table border=\"1\" class=\"dataframe\">\n",
       "  <thead>\n",
       "    <tr style=\"text-align: right;\">\n",
       "      <th></th>\n",
       "      <th></th>\n",
       "      <th>sphericity</th>\n",
       "      <th>weight</th>\n",
       "    </tr>\n",
       "    <tr>\n",
       "      <th>color</th>\n",
       "      <th>label</th>\n",
       "      <th></th>\n",
       "      <th></th>\n",
       "    </tr>\n",
       "  </thead>\n",
       "  <tbody>\n",
       "    <tr>\n",
       "      <th rowspan=\"2\" valign=\"top\">Green</th>\n",
       "      <th>Apple</th>\n",
       "      <td>10</td>\n",
       "      <td>10</td>\n",
       "    </tr>\n",
       "    <tr>\n",
       "      <th>Orange</th>\n",
       "      <td>10</td>\n",
       "      <td>10</td>\n",
       "    </tr>\n",
       "    <tr>\n",
       "      <th>Greenish yellow</th>\n",
       "      <th>Orange</th>\n",
       "      <td>10</td>\n",
       "      <td>10</td>\n",
       "    </tr>\n",
       "    <tr>\n",
       "      <th>Orange</th>\n",
       "      <th>Orange</th>\n",
       "      <td>10</td>\n",
       "      <td>10</td>\n",
       "    </tr>\n",
       "    <tr>\n",
       "      <th>Red</th>\n",
       "      <th>Apple</th>\n",
       "      <td>10</td>\n",
       "      <td>10</td>\n",
       "    </tr>\n",
       "    <tr>\n",
       "      <th>Reddish yellow</th>\n",
       "      <th>Apple</th>\n",
       "      <td>10</td>\n",
       "      <td>10</td>\n",
       "    </tr>\n",
       "  </tbody>\n",
       "</table>\n",
       "</div>"
      ],
      "text/plain": [
       "                        sphericity  weight\n",
       "color           label                     \n",
       "Green           Apple           10      10\n",
       "                Orange          10      10\n",
       "Greenish yellow Orange          10      10\n",
       "Orange          Orange          10      10\n",
       "Red             Apple           10      10\n",
       "Reddish yellow  Apple           10      10"
      ]
     },
     "execution_count": 6,
     "metadata": {},
     "output_type": "execute_result"
    }
   ],
   "source": [
    "fruits.groupby(['color','label']).count()"
   ]
  },
  {
   "cell_type": "code",
   "execution_count": 7,
   "id": "c545d142",
   "metadata": {},
   "outputs": [
    {
     "data": {
      "image/png": "[encoded data removed]",
      "text/plain": [
       "<Figure size 432x288 with 1 Axes>"
      ]
     },
     "metadata": {
      "needs_background": "light"
     },
     "output_type": "display_data"
    }
   ],
   "source": [
    "sns.countplot(x='color',data=fruits,hue='label')\n",
    "plt.show()"
   ]
  },
  {
   "cell_type": "code",
   "execution_count": 8,
   "id": "f3522a0a",
   "metadata": {},
   "outputs": [
    {
     "data": {
      "text/html": [
       "<div>\n",
       "<style scoped>\n",
       "    .dataframe tbody tr th:only-of-type {\n",
       "        vertical-align: middle;\n",
       "    }\n",
       "\n",
       "    .dataframe tbody tr th {\n",
       "        vertical-align: top;\n",
       "    }\n",
       "\n",
       "    .dataframe thead tr th {\n",
       "        text-align: left;\n",
       "    }\n",
       "\n",
       "    .dataframe thead tr:last-of-type th {\n",
       "        text-align: right;\n",
       "    }\n",
       "</style>\n",
       "<table border=\"1\" class=\"dataframe\">\n",
       "  <thead>\n",
       "    <tr>\n",
       "      <th></th>\n",
       "      <th colspan=\"8\" halign=\"left\">sphericity</th>\n",
       "      <th colspan=\"8\" halign=\"left\">weight</th>\n",
       "    </tr>\n",
       "    <tr>\n",
       "      <th></th>\n",
       "      <th>count</th>\n",
       "      <th>mean</th>\n",
       "      <th>std</th>\n",
       "      <th>min</th>\n",
       "      <th>25%</th>\n",
       "      <th>50%</th>\n",
       "      <th>75%</th>\n",
       "      <th>max</th>\n",
       "      <th>count</th>\n",
       "      <th>mean</th>\n",
       "      <th>std</th>\n",
       "      <th>min</th>\n",
       "      <th>25%</th>\n",
       "      <th>50%</th>\n",
       "      <th>75%</th>\n",
       "      <th>max</th>\n",
       "    </tr>\n",
       "    <tr>\n",
       "      <th>label</th>\n",
       "      <th></th>\n",
       "      <th></th>\n",
       "      <th></th>\n",
       "      <th></th>\n",
       "      <th></th>\n",
       "      <th></th>\n",
       "      <th></th>\n",
       "      <th></th>\n",
       "      <th></th>\n",
       "      <th></th>\n",
       "      <th></th>\n",
       "      <th></th>\n",
       "      <th></th>\n",
       "      <th></th>\n",
       "      <th></th>\n",
       "      <th></th>\n",
       "    </tr>\n",
       "  </thead>\n",
       "  <tbody>\n",
       "    <tr>\n",
       "      <th>Apple</th>\n",
       "      <td>30.0</td>\n",
       "      <td>0.768133</td>\n",
       "      <td>0.042097</td>\n",
       "      <td>0.710</td>\n",
       "      <td>0.7285</td>\n",
       "      <td>0.7625</td>\n",
       "      <td>0.80250</td>\n",
       "      <td>0.845</td>\n",
       "      <td>30.0</td>\n",
       "      <td>161.966667</td>\n",
       "      <td>12.075862</td>\n",
       "      <td>140.0</td>\n",
       "      <td>152.5</td>\n",
       "      <td>164.0</td>\n",
       "      <td>171.50</td>\n",
       "      <td>184.0</td>\n",
       "    </tr>\n",
       "    <tr>\n",
       "      <th>Orange</th>\n",
       "      <td>30.0</td>\n",
       "      <td>0.873033</td>\n",
       "      <td>0.042740</td>\n",
       "      <td>0.808</td>\n",
       "      <td>0.8350</td>\n",
       "      <td>0.8710</td>\n",
       "      <td>0.91325</td>\n",
       "      <td>0.947</td>\n",
       "      <td>30.0</td>\n",
       "      <td>123.533333</td>\n",
       "      <td>14.129288</td>\n",
       "      <td>101.0</td>\n",
       "      <td>110.0</td>\n",
       "      <td>124.0</td>\n",
       "      <td>133.75</td>\n",
       "      <td>149.0</td>\n",
       "    </tr>\n",
       "  </tbody>\n",
       "</table>\n",
       "</div>"
      ],
      "text/plain": [
       "       sphericity                                                             \\\n",
       "            count      mean       std    min     25%     50%      75%    max   \n",
       "label                                                                          \n",
       "Apple        30.0  0.768133  0.042097  0.710  0.7285  0.7625  0.80250  0.845   \n",
       "Orange       30.0  0.873033  0.042740  0.808  0.8350  0.8710  0.91325  0.947   \n",
       "\n",
       "       weight                                                             \n",
       "        count        mean        std    min    25%    50%     75%    max  \n",
       "label                                                                     \n",
       "Apple    30.0  161.966667  12.075862  140.0  152.5  164.0  171.50  184.0  \n",
       "Orange   30.0  123.533333  14.129288  101.0  110.0  124.0  133.75  149.0  "
      ]
     },
     "execution_count": 8,
     "metadata": {},
     "output_type": "execute_result"
    }
   ],
   "source": [
    "fruits.groupby('label').describe()"
   ]
  },
  {
   "cell_type": "code",
   "execution_count": 9,
   "id": "24a6c16f",
   "metadata": {},
   "outputs": [
    {
     "data": {
      "image/png": "[encoded data removed]",
      "text/plain": [
       "<Figure size 432x288 with 1 Axes>"
      ]
     },
     "metadata": {
      "needs_background": "light"
     },
     "output_type": "display_data"
    }
   ],
   "source": [
    "# 1fist method Scatterplot for continuous data\n",
    "sns.scatterplot(x='sphericity',y='weight',data=fruits, hue='label')\n",
    "plt.show()"
   ]
  },
  {
   "cell_type": "code",
   "execution_count": 11,
   "id": "1d084cc2",
   "metadata": {},
   "outputs": [],
   "source": [
    "# Implement Decision Tree"
   ]
  },
  {
   "cell_type": "code",
   "execution_count": 10,
   "id": "80975020",
   "metadata": {},
   "outputs": [],
   "source": [
    "# selection of capital X feature and y target\n",
    "X = fruits[['sphericity','weight']]\n",
    "y = fruits['label']"
   ]
  },
  {
   "cell_type": "code",
   "execution_count": 12,
   "id": "e3ca5a3f",
   "metadata": {},
   "outputs": [
    {
     "data": {
      "image/png": "[encoded data removed]",
      "text/plain": [
       "<Figure size 432x288 with 1 Axes>"
      ]
     },
     "metadata": {
      "needs_background": "light"
     },
     "output_type": "display_data"
    }
   ],
   "source": [
    "# 2nd method\n",
    "plt.scatter(x='sphericity',y='weight',data=X[y=='Apple'],c='green',label='Apples')\n",
    "plt.scatter(x='sphericity',y='weight',data=X[y=='Orange'],c='orange',label='Oranges')\n",
    "plt.legend()\n",
    "plt.show()"
   ]
  },
  {
   "cell_type": "code",
   "execution_count": 13,
   "id": "159809d1",
   "metadata": {},
   "outputs": [],
   "source": [
    "# 1 Step import sklearn.tree\n",
    "from sklearn.tree import DecisionTreeClassifier,plot_tree"
   ]
  },
  {
   "cell_type": "code",
   "execution_count": 14,
   "id": "9d3eca8d",
   "metadata": {
    "scrolled": true
   },
   "outputs": [
    {
     "data": {
      "text/plain": [
       "DecisionTreeClassifier(criterion='entropy')"
      ]
     },
     "execution_count": 14,
     "metadata": {},
     "output_type": "execute_result"
    }
   ],
   "source": [
    "# 2nd step model training and fiting\n",
    "model = DecisionTreeClassifier(criterion='entropy')\n",
    "model.fit(X,y)"
   ]
  },
  {
   "cell_type": "code",
   "execution_count": 15,
   "id": "8b82269a",
   "metadata": {},
   "outputs": [
    {
     "data": {
      "image/png": "[encoded data removed]",
      "text/plain": [
       "<Figure size 432x576 with 1 Axes>"
      ]
     },
     "metadata": {
      "needs_background": "light"
     },
     "output_type": "display_data"
    }
   ],
   "source": [
    "plt.figure(figsize=[6,8])\n",
    "plot_tree(model,feature_names=['sphericity','weight'],class_names=['Apple','Orange'])\n",
    "plt.show()"
   ]
  },
  {
   "cell_type": "code",
   "execution_count": 18,
   "id": "a8118e38",
   "metadata": {},
   "outputs": [
    {
     "data": {
      "text/plain": [
       "((60, 2), (60,))"
      ]
     },
     "execution_count": 18,
     "metadata": {},
     "output_type": "execute_result"
    }
   ],
   "source": [
    "X.shape,y.shape"
   ]
  },
  {
   "cell_type": "code",
   "execution_count": 40,
   "id": "a4f8d22e",
   "metadata": {},
   "outputs": [
    {
     "data": {
      "text/plain": [
       "((45, 2), (15, 2), (45,), (15,))"
      ]
     },
     "execution_count": 40,
     "metadata": {},
     "output_type": "execute_result"
    }
   ],
   "source": [
    "# Session 104 on test and split\n",
    "X_train,X_test,y_train,y_test = train_test_split(X,y,test_size=0.25,random_state=10)\n",
    "X_train.shape,X_test.shape,y_train.shape,y_test.shape"
   ]
  },
  {
   "cell_type": "code",
   "execution_count": 43,
   "id": "0caac620",
   "metadata": {},
   "outputs": [
    {
     "data": {
      "text/plain": [
       "Int64Index([ 6, 45, 57, 47, 10, 44, 50, 18,  4,  1, 12, 30, 22, 54, 32, 53, 19,\n",
       "            34,  5, 13, 14, 41, 51, 33, 24, 11, 43, 16, 58, 40, 42, 56, 59,  8,\n",
       "            55, 52, 48, 29, 25, 28, 49,  0, 15, 36,  9],\n",
       "           dtype='int64')"
      ]
     },
     "execution_count": 43,
     "metadata": {},
     "output_type": "execute_result"
    }
   ],
   "source": [
    "X_train.index"
   ]
  },
  {
   "cell_type": "code",
   "execution_count": 42,
   "id": "aaac5d50",
   "metadata": {},
   "outputs": [
    {
     "data": {
      "text/plain": [
       "Int64Index([ 6, 45, 57, 47, 10, 44, 50, 18,  4,  1, 12, 30, 22, 54, 32, 53, 19,\n",
       "            34,  5, 13, 14, 41, 51, 33, 24, 11, 43, 16, 58, 40, 42, 56, 59,  8,\n",
       "            55, 52, 48, 29, 25, 28, 49,  0, 15, 36,  9],\n",
       "           dtype='int64')"
      ]
     },
     "execution_count": 42,
     "metadata": {},
     "output_type": "execute_result"
    }
   ],
   "source": [
    "y_train.index"
   ]
  },
  {
   "cell_type": "code",
   "execution_count": 51,
   "id": "8f0e1fe5",
   "metadata": {},
   "outputs": [
    {
     "data": {
      "text/plain": [
       "Int64Index([31, 3, 38, 27, 21, 17, 46, 2, 23, 26, 35, 39, 20, 37, 7], dtype='int64')"
      ]
     },
     "execution_count": 51,
     "metadata": {},
     "output_type": "execute_result"
    }
   ],
   "source": [
    "X_test.index"
   ]
  },
  {
   "cell_type": "code",
   "execution_count": 52,
   "id": "3ff787c5",
   "metadata": {},
   "outputs": [
    {
     "data": {
      "text/plain": [
       "Int64Index([31, 3, 38, 27, 21, 17, 46, 2, 23, 26, 35, 39, 20, 37, 7], dtype='int64')"
      ]
     },
     "execution_count": 52,
     "metadata": {},
     "output_type": "execute_result"
    }
   ],
   "source": [
    "y_test.index"
   ]
  },
  {
   "cell_type": "code",
   "execution_count": 55,
   "id": "fe47e5fb",
   "metadata": {},
   "outputs": [
    {
     "data": {
      "image/png": "[encoded data removed]",
      "text/plain": [
       "<Figure size 432x288 with 1 Axes>"
      ]
     },
     "metadata": {
      "needs_background": "light"
     },
     "output_type": "display_data"
    }
   ],
   "source": [
    "plt.scatter(x='sphericity',y='weight',data=X_train[y_train=='Apple'],label='Train Apples',c='red')\n",
    "plt.scatter(x='sphericity',y='weight',data=X_train[y_train=='Orange'],label='Train Orange',c='green')\n",
    "plt.scatter(x='sphericity',y='weight',data=X_test,label='Test samples',c='blue',marker='*')\n",
    "plt.legend()\n",
    "plt.show()"
   ]
  },
  {
   "cell_type": "code",
   "execution_count": 57,
   "id": "c2c24ac3",
   "metadata": {},
   "outputs": [
    {
     "data": {
      "text/plain": [
       "DecisionTreeClassifier(criterion='entropy')"
      ]
     },
     "execution_count": 57,
     "metadata": {},
     "output_type": "execute_result"
    }
   ],
   "source": [
    "# Train the model\n",
    "from sklearn.tree import DecisionTreeClassifier,plot_tree\n",
    "model = DecisionTreeClassifier(criterion='entropy')\n",
    "model.fit(X_train,y_train)"
   ]
  },
  {
   "cell_type": "code",
   "execution_count": 58,
   "id": "d9709a8f",
   "metadata": {},
   "outputs": [
    {
     "data": {
      "image/png": "[encoded data removed]",
      "text/plain": [
       "<Figure size 432x576 with 1 Axes>"
      ]
     },
     "metadata": {
      "needs_background": "light"
     },
     "output_type": "display_data"
    }
   ],
   "source": [
    "plt.figure(figsize=[6,8])\n",
    "plot_tree(model,feature_names=['sphericity','weight'],class_names=['Apple','Orange'])\n",
    "plt.show()"
   ]
  },
  {
   "cell_type": "code",
   "execution_count": 60,
   "id": "7265d586",
   "metadata": {},
   "outputs": [
    {
     "data": {
      "text/plain": [
       "array(['Apple', 'Orange', 'Apple', 'Orange', 'Apple', 'Orange', 'Apple',\n",
       "       'Orange', 'Orange', 'Orange', 'Apple', 'Apple', 'Orange', 'Apple',\n",
       "       'Orange'], dtype=object)"
      ]
     },
     "execution_count": 60,
     "metadata": {},
     "output_type": "execute_result"
    }
   ],
   "source": [
    "# Predict the X_test\n",
    "y_predict = model.predict(X_test)\n",
    "y_predict"
   ]
  },
  {
   "cell_type": "code",
   "execution_count": 62,
   "id": "ece085fc",
   "metadata": {},
   "outputs": [
    {
     "data": {
      "text/plain": [
       "array(['Apple', 'Orange', 'Apple', 'Orange', 'Orange', 'Orange', 'Apple',\n",
       "       'Orange', 'Orange', 'Orange', 'Apple', 'Apple', 'Orange', 'Apple',\n",
       "       'Orange'], dtype=object)"
      ]
     },
     "execution_count": 62,
     "metadata": {},
     "output_type": "execute_result"
    }
   ],
   "source": [
    "#compare real result y_test to the predict(y_predict)\n",
    "y_test.values"
   ]
  },
  {
   "cell_type": "code",
   "execution_count": 63,
   "id": "fa028545",
   "metadata": {},
   "outputs": [
    {
     "data": {
      "text/plain": [
       "0.9333333333333333"
      ]
     },
     "execution_count": 63,
     "metadata": {},
     "output_type": "execute_result"
    }
   ],
   "source": [
    "# out of 15 test fruits the machine predict 14 correct and missed apple to orange here the score below\n",
    "14/15"
   ]
  },
  {
   "cell_type": "code",
   "execution_count": 67,
   "id": "a2c150f3",
   "metadata": {},
   "outputs": [
    {
     "data": {
      "text/plain": [
       "31     True\n",
       "3      True\n",
       "38     True\n",
       "27     True\n",
       "21    False\n",
       "17     True\n",
       "46     True\n",
       "2      True\n",
       "23     True\n",
       "26     True\n",
       "35     True\n",
       "39     True\n",
       "20     True\n",
       "37     True\n",
       "7      True\n",
       "Name: label, dtype: bool"
      ]
     },
     "execution_count": 67,
     "metadata": {},
     "output_type": "execute_result"
    }
   ],
   "source": [
    "(y_predict==y_test)"
   ]
  },
  {
   "cell_type": "code",
   "execution_count": 68,
   "id": "15c434ca",
   "metadata": {},
   "outputs": [
    {
     "data": {
      "text/plain": [
       "0.9333333333333333"
      ]
     },
     "execution_count": 68,
     "metadata": {},
     "output_type": "execute_result"
    }
   ],
   "source": [
    "# Predict Score\n",
    "(y_predict==y_test).sum()/len(y_test)"
   ]
  },
  {
   "cell_type": "code",
   "execution_count": 70,
   "id": "d14ace91",
   "metadata": {},
   "outputs": [
    {
     "data": {
      "text/plain": [
       "0.9333333333333333"
      ]
     },
     "execution_count": 70,
     "metadata": {},
     "output_type": "execute_result"
    }
   ],
   "source": [
    "# Or use libary metric to see score\n",
    "from sklearn.metrics import accuracy_score\n",
    "accuracy_score(y_test,y_predict)"
   ]
  }
 ],
 "metadata": {
  "kernelspec": {
   "display_name": "Python 3 (ipykernel)",
   "language": "python",
   "name": "python3"
  },
  "language_info": {
   "codemirror_mode": {
    "name": "ipython",
    "version": 3
   },
   "file_extension": ".py",
   "mimetype": "text/x-python",
   "name": "python",
   "nbconvert_exporter": "python",
   "pygments_lexer": "ipython3",
   "version": "3.9.12"
  }
 },
 "nbformat": 4,
 "nbformat_minor": 5
}
