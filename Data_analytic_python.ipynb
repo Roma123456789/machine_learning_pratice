{
 "cells": [
  {
   "cell_type": "code",
   "execution_count": 1,
   "id": "d42ed882",
   "metadata": {},
   "outputs": [],
   "source": [
    "import pandas as pd"
   ]
  },
  {
   "cell_type": "code",
   "execution_count": 3,
   "id": "55a49708",
   "metadata": {},
   "outputs": [
    {
     "data": {
      "text/html": [
       "<div>\n",
       "<style scoped>\n",
       "    .dataframe tbody tr th:only-of-type {\n",
       "        vertical-align: middle;\n",
       "    }\n",
       "\n",
       "    .dataframe tbody tr th {\n",
       "        vertical-align: top;\n",
       "    }\n",
       "\n",
       "    .dataframe thead th {\n",
       "        text-align: right;\n",
       "    }\n",
       "</style>\n",
       "<table border=\"1\" class=\"dataframe\">\n",
       "  <thead>\n",
       "    <tr style=\"text-align: right;\">\n",
       "      <th></th>\n",
       "      <th>year</th>\n",
       "      <th>model</th>\n",
       "      <th>price</th>\n",
       "      <th>mileage</th>\n",
       "      <th>color</th>\n",
       "      <th>transmission</th>\n",
       "    </tr>\n",
       "  </thead>\n",
       "  <tbody>\n",
       "    <tr>\n",
       "      <th>0</th>\n",
       "      <td>2011</td>\n",
       "      <td>SEL</td>\n",
       "      <td>21992</td>\n",
       "      <td>7413</td>\n",
       "      <td>Yellow</td>\n",
       "      <td>AUTO</td>\n",
       "    </tr>\n",
       "    <tr>\n",
       "      <th>1</th>\n",
       "      <td>2011</td>\n",
       "      <td>SEL</td>\n",
       "      <td>20995</td>\n",
       "      <td>10926</td>\n",
       "      <td>Gray</td>\n",
       "      <td>AUTO</td>\n",
       "    </tr>\n",
       "    <tr>\n",
       "      <th>2</th>\n",
       "      <td>2011</td>\n",
       "      <td>SEL</td>\n",
       "      <td>19995</td>\n",
       "      <td>7351</td>\n",
       "      <td>Silver</td>\n",
       "      <td>AUTO</td>\n",
       "    </tr>\n",
       "    <tr>\n",
       "      <th>3</th>\n",
       "      <td>2011</td>\n",
       "      <td>SEL</td>\n",
       "      <td>17809</td>\n",
       "      <td>11613</td>\n",
       "      <td>Gray</td>\n",
       "      <td>AUTO</td>\n",
       "    </tr>\n",
       "    <tr>\n",
       "      <th>4</th>\n",
       "      <td>2012</td>\n",
       "      <td>SE</td>\n",
       "      <td>17500</td>\n",
       "      <td>8367</td>\n",
       "      <td>White</td>\n",
       "      <td>AUTO</td>\n",
       "    </tr>\n",
       "  </tbody>\n",
       "</table>\n",
       "</div>"
      ],
      "text/plain": [
       "   year model  price  mileage   color transmission\n",
       "0  2011   SEL  21992     7413  Yellow         AUTO\n",
       "1  2011   SEL  20995    10926    Gray         AUTO\n",
       "2  2011   SEL  19995     7351  Silver         AUTO\n",
       "3  2011   SEL  17809    11613    Gray         AUTO\n",
       "4  2012    SE  17500     8367   White         AUTO"
      ]
     },
     "execution_count": 3,
     "metadata": {},
     "output_type": "execute_result"
    }
   ],
   "source": [
    "cars=pd.read_csv('c:/Users/igor/Downloads/Data-Sets-ML/usedcars.csv')\n",
    "cars.head()"
   ]
  },
  {
   "cell_type": "code",
   "execution_count": 4,
   "id": "c402be69",
   "metadata": {},
   "outputs": [
    {
     "data": {
      "text/plain": [
       "SE     78\n",
       "SES    48\n",
       "SEL    24\n",
       "Name: model, dtype: int64"
      ]
     },
     "execution_count": 4,
     "metadata": {},
     "output_type": "execute_result"
    }
   ],
   "source": [
    "# CHECK HOW MANY CARS BELONG TO EACH MODEL SESSION 64 CATHEGORICAL VS CONTINUOUS\n",
    "cars.model.value_counts()"
   ]
  },
  {
   "cell_type": "code",
   "execution_count": 7,
   "id": "abf14506",
   "metadata": {},
   "outputs": [
    {
     "data": {
      "text/plain": [
       "Gold       1\n",
       "Yellow     3\n",
       "Green      5\n",
       "Gray      16\n",
       "White     16\n",
       "Blue      17\n",
       "Red       25\n",
       "Silver    32\n",
       "Black     35\n",
       "Name: color, dtype: int64"
      ]
     },
     "execution_count": 7,
     "metadata": {},
     "output_type": "execute_result"
    }
   ],
   "source": [
    "# COUNT CAR COLOR FROM ASCENDING ORDER\n",
    "cars.color.value_counts(ascending=True)"
   ]
  },
  {
   "cell_type": "code",
   "execution_count": 8,
   "id": "5994f5a6",
   "metadata": {},
   "outputs": [
    {
     "data": {
      "text/plain": [
       "2010    49\n",
       "2009    42\n",
       "2011    16\n",
       "2008    14\n",
       "2007    11\n",
       "2006     6\n",
       "2004     3\n",
       "2000     3\n",
       "2005     2\n",
       "2012     1\n",
       "2003     1\n",
       "2002     1\n",
       "2001     1\n",
       "Name: year, dtype: int64"
      ]
     },
     "execution_count": 8,
     "metadata": {},
     "output_type": "execute_result"
    }
   ],
   "source": [
    "cars.year.value_counts()"
   ]
  },
  {
   "cell_type": "code",
   "execution_count": 9,
   "id": "5c85927c",
   "metadata": {},
   "outputs": [
    {
     "data": {
      "text/plain": [
       "7413      1\n",
       "35871     1\n",
       "36323     1\n",
       "39211     1\n",
       "44789     1\n",
       "         ..\n",
       "36447     1\n",
       "35318     1\n",
       "24929     1\n",
       "23785     1\n",
       "109259    1\n",
       "Name: mileage, Length: 150, dtype: int64"
      ]
     },
     "execution_count": 9,
     "metadata": {},
     "output_type": "execute_result"
    }
   ],
   "source": [
    "cars.mileage.value_counts()"
   ]
  },
  {
   "cell_type": "code",
   "execution_count": 13,
   "id": "936dba78",
   "metadata": {},
   "outputs": [
    {
     "data": {
      "text/plain": [
       "Black     35\n",
       "Silver    32\n",
       "Red       25\n",
       "Blue      17\n",
       "Gray      16\n",
       "White     16\n",
       "Green      5\n",
       "Yellow     3\n",
       "Gold       1\n",
       "Name: color, dtype: int64"
      ]
     },
     "execution_count": 13,
     "metadata": {},
     "output_type": "execute_result"
    }
   ],
   "source": [
    "cars.color.value_counts()"
   ]
  },
  {
   "cell_type": "code",
   "execution_count": 12,
   "id": "82d4c845",
   "metadata": {},
   "outputs": [
    {
     "data": {
      "text/plain": [
       "(150, 6)"
      ]
     },
     "execution_count": 12,
     "metadata": {},
     "output_type": "execute_result"
    }
   ],
   "source": [
    "cars.shape"
   ]
  },
  {
   "cell_type": "code",
   "execution_count": 14,
   "id": "d46a2aa0",
   "metadata": {},
   "outputs": [
    {
     "data": {
      "text/plain": [
       "0.23333333333333334"
      ]
     },
     "execution_count": 14,
     "metadata": {},
     "output_type": "execute_result"
    }
   ],
   "source": [
    "35/150"
   ]
  },
  {
   "cell_type": "code",
   "execution_count": 15,
   "id": "d4acdadb",
   "metadata": {},
   "outputs": [
    {
     "data": {
      "text/plain": [
       "Black     0.233333\n",
       "Silver    0.213333\n",
       "Red       0.166667\n",
       "Blue      0.113333\n",
       "Gray      0.106667\n",
       "White     0.106667\n",
       "Green     0.033333\n",
       "Yellow    0.020000\n",
       "Gold      0.006667\n",
       "Name: color, dtype: float64"
      ]
     },
     "execution_count": 15,
     "metadata": {},
     "output_type": "execute_result"
    }
   ],
   "source": [
    "# CALCULATE PERCENTAGE OF MODEL USING NORMALIZE()\n",
    "cars.color.value_counts(normalize=True)"
   ]
  }
 ],
 "metadata": {
  "kernelspec": {
   "display_name": "Python 3 (ipykernel)",
   "language": "python",
   "name": "python3"
  },
  "language_info": {
   "codemirror_mode": {
    "name": "ipython",
    "version": 3
   },
   "file_extension": ".py",
   "mimetype": "text/x-python",
   "name": "python",
   "nbconvert_exporter": "python",
   "pygments_lexer": "ipython3",
   "version": "3.9.12"
  }
 },
 "nbformat": 4,
 "nbformat_minor": 5
}
